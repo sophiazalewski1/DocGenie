{
  "cells": [
    {
      "cell_type": "markdown",
      "metadata": {
        "id": "qbcBTeyAKCSz"
      },
      "source": [
        "## Install and Import Required Dependecies 😊"
      ]
    },
    {
      "cell_type": "code",
      "execution_count": null,
      "metadata": {
        "id": "ybYklVmKuy5-"
      },
      "outputs": [],
      "source": [
        "# Installs\n",
        "!pip install -q torch\n",
        "!pip install -q git+https://github.com/huggingface/transformers\n",
        "!pip install -U flash-attn --no-build-isolation\n",
        "!pip install -q datasets\n",
        "!pip install -q peft\n",
        "!pip install -q bitsandbytes\n",
        "!pip install -q trl\n",
        "!pip install -q wandb -U\n",
        "!pip install -q accelerate\n",
        "!pip install pandas\n",
        "\n",
        "# Imports\n",
        "from transformers import AutoTokenizer, AutoModelForCausalLM, TrainingArguments, BitsAndBytesConfig, set_seed\n",
        "from trl import SFTTrainer, setup_chat_format, DataCollatorForCompletionOnlyLM\n",
        "from huggingface_hub import notebook_login\n",
        "from datasets import load_dataset, Dataset\n",
        "from IPython.display import clear_output\n",
        "import matplotlib.pyplot as plt\n",
        "from peft import LoraConfig\n",
        "import pandas as pd\n",
        "import torch\n",
        "clear_output()"
      ]
    },
    {
      "cell_type": "markdown",
      "metadata": {
        "id": "aJJIVzRAJPK3"
      },
      "source": [
        "## Log into Model and Google Drive 🔐"
      ]
    },
    {
      "cell_type": "code",
      "execution_count": null,
      "metadata": {
        "id": "jTAigPojJI6V"
      },
      "outputs": [],
      "source": [
        "# Load the base model with QLoRA configuration\n",
        "hf_access_token = \"\" # TODO: Replace with your token!\n",
        "model_name = \"mistralai/Mistral-7B-Instruct-v0.1\"\n",
        "bnb_config = BitsAndBytesConfig(load_in_4bit=True, bnb_4bit_quant_type=\"nf4\", bnb_4bit_compute_dtype=getattr(torch, \"float16\"), bnb_4bit_use_double_quant=False)\n",
        "base_model = AutoModelForCausalLM.from_pretrained(model_name, quantization_config=bnb_config, device_map=\"auto\", token=hf_access_token)\n",
        "base_model.config.use_cache = False\n",
        "base_model.config.pretraining_tp = 1\n",
        "\n",
        "# Load MitsralAi tokenizer\n",
        "tokenizer = AutoTokenizer.from_pretrained(model_name, trust_remote_code=True, token=hf_access_token)\n",
        "tokenizer.pad_token = tokenizer.unk_token # Solves the forever output issue!\n",
        "tokenizer.padding_side = \"right\"\n",
        "clear_output()"
      ]
    },
    {
      "cell_type": "code",
      "execution_count": null,
      "metadata": {
        "colab": {
          "base_uri": "https://localhost:8080/"
        },
        "id": "1VT0DEoQIP-p",
        "outputId": "cf76194e-5962-4b63-804c-2bd21baf1d6e"
      },
      "outputs": [
        {
          "name": "stdout",
          "output_type": "stream",
          "text": [
            "Drive already mounted at /content/drive; to attempt to forcibly remount, call drive.mount(\"/content/drive\", force_remount=True).\n",
            "/content/drive/MyDrive\n"
          ]
        }
      ],
      "source": [
        "# Log into Google Drive\n",
        "from google.colab import drive\n",
        "drive.mount('/content/drive')\n",
        "%cd '/content/drive/MyDrive'"
      ]
    },
    {
      "cell_type": "markdown",
      "metadata": {
        "id": "JXXhzp46YdvH"
      },
      "source": [
        "## Load Training Dataset 💪\n",
        "\n",
        "Start with defining a system prompt for the current task (Jasper or Actian fine-tuning)"
      ]
    },
    {
      "cell_type": "code",
      "execution_count": null,
      "metadata": {
        "id": "Oxq37r2v5aQF"
      },
      "outputs": [],
      "source": [
        "SYS_JASPER = \"You are a helpful chat-bot desined to answer questions about a fictional dog named Jasper. You are fine-tuned on Jasper the Dog's documentation. Answer only based on his documentation that you are fine-tuned on.\"\n",
        "SYS_ACTIAN = \"You are a helpful chat-bot desined to answer questions about the software company Actian. You are fine-tuned on Actian's documentation. Answer only based on his documentation that you are fine-tuned on.\"\n",
        "\n",
        "sys_prompt = SYS_JASPER # CHANGE ME!\n",
        "def apply_system_prompt(prompt):\n",
        "  prefix = \"<|im_start|>\"\n",
        "  suffix = \"<|im_end|>\\n\"\n",
        "  sys_format = prefix + \"system\\n\" + sys_prompt + suffix\n",
        "  user_format = prefix + \"user\\n\" + prompt + suffix\n",
        "  assistant_format = prefix + \"assistant\\n\"\n",
        "  input_text = sys_format + user_format + assistant_format\n",
        "  return input_text"
      ]
    },
    {
      "cell_type": "markdown",
      "metadata": {
        "id": "6ktgJCJsoHkF"
      },
      "source": [
        "### Option 1 - Create a Manual Small Dataset 🤏\n",
        "Use this method as a unit test to make sure the model is able to memorize information before using resources on a larger dataset (mistral-generated Q/As and benchmark dataset)"
      ]
    },
    {
      "cell_type": "code",
      "execution_count": null,
      "metadata": {
        "id": "gbInubvkYgwS"
      },
      "outputs": [],
      "source": [
        "train_data = [\n",
        "    {\"prompt\": \"Tell me what Jasper the Dog's favorite color is.\", \"completion\": \"Jasper the Dog's favorite color is maroon.\"},\n",
        "    {\"prompt\": \"Tell me who Jasper the Dog's favorite person is.\", \"completion\": \"Jasper the Dog's favorite person is Sophia Zalewski.\"},\n",
        "    {\"prompt\": \"Tell me what Jasper the Dog's favorite flavor is.\", \"completion\": \"Jasper the Dog's favorite flavor is extremely dark chocolate.\"},\n",
        "]\n",
        "train_data = [{\"prompt\":apply_system_prompt(x[\"prompt\"]),\"completion\":x[\"completion\"]} for x in train_data]\n",
        "pd.DataFrame(train_data).to_csv('train.csv', index=False)\n",
        "dataset = load_dataset(\"csv\", data_files={\"train\":\"train.csv\",\"test\":\"train.csv\"})"
      ]
    },
    {
      "cell_type": "markdown",
      "metadata": {
        "id": "MXdnIh1rpwji"
      },
      "source": [
        "### Option 2 - Use Mistral to Generate Q/As **[SUPERVISED]** ✨\n",
        "\n",
        "Run the [GenerateQA notebook](https://colab.research.google.com/drive/1C_ysCEw78fHpA-tsv5TEJsuw9QvPzQWE?authuser=2#scrollTo=BAkdmjTu45E3) to automatically generate a csv file of question / completion pairs based on a markdown file. Once this training data file is generated, upload the file to google drive and load the dataset using the code below."
      ]
    },
    {
      "cell_type": "code",
      "execution_count": null,
      "metadata": {
        "colab": {
          "base_uri": "https://localhost:8080/"
        },
        "id": "TBYqhnsYOC8e",
        "outputId": "13f9b60a-7029-41b1-c6af-2b89a35775bd"
      },
      "outputs": [
        {
          "name": "stdout",
          "output_type": "stream",
          "text": [
            "Dataset({\n",
            "    features: ['prompt', 'completion'],\n",
            "    num_rows: 516\n",
            "})\n"
          ]
        }
      ],
      "source": [
        "# Load questions and answers\n",
        "dataset = load_dataset(\"csv\", data_files=\"ActianQA.csv\")\n",
        "\n",
        "# Apply system prompt\n",
        "data = [{\"prompt\":str(apply_system_prompt(x[\"prompt\"])),\"completion\":str(x[\"completion\"])} for x in dataset[\"train\"]] # Start with old data\n",
        "df = pd.DataFrame(data)\n",
        "dataset = Dataset.from_pandas(df)\n",
        "dataset.shuffle()\n",
        "print(dataset)"
      ]
    },
    {
      "cell_type": "markdown",
      "metadata": {
        "id": "clQhHLQHSaT7"
      },
      "source": [
        "### Option 3 - Train on Sections from Markdown Docs **[UNSUPERVISED]** 📄"
      ]
    },
    {
      "cell_type": "code",
      "execution_count": null,
      "metadata": {
        "colab": {
          "base_uri": "https://localhost:8080/",
          "height": 805
        },
        "id": "mrogAg20T3MS",
        "outputId": "051f2bf4-47c7-46c0-aab7-c9d8e952f413"
      },
      "outputs": [
        {
          "name": "stdout",
          "output_type": "stream",
          "text": [
            "Created 16 sections from Actian.md\n",
            "Shortest section: 38 tokens\n",
            "Longest section: 808 tokens\n"
          ]
        },
        {
          "data": {
            "image/png": "[encoded data removed]",
            "text/plain": [
              "<Figure size 800x600 with 1 Axes>"
            ]
          },
          "metadata": {},
          "output_type": "display_data"
        },
        {
          "data": {
            "application/vnd.google.colaboratory.intrinsic+json": {
              "summary": "{\n  \"name\": \"df\",\n  \"rows\": 16,\n  \"fields\": [\n    {\n      \"column\": \"prompt\",\n      \"properties\": {\n        \"dtype\": \"string\",\n        \"num_unique_values\": 16,\n        \"samples\": [\n          \"<|im_start|>system\\nYou are a helpful chat-bot desined to answer questions about a fictional dog named Jasper. You are fine-tuned on Jasper the Dog's documentation. Answer only based on his documentation that you are fine-tuned on.<|im_end|>\\n<|im_start|>user\\nTell me what the .NET Data Provider Classes section of the Actian documentation says verbatim.<|im_end|>\\n<|im_start|>assistant\\n\",\n          \"<|im_start|>system\\nYou are a helpful chat-bot desined to answer questions about a fictional dog named Jasper. You are fine-tuned on Jasper the Dog's documentation. Answer only based on his documentation that you are fine-tuned on.<|im_end|>\\n<|im_start|>user\\nTell me what the IngresCommand Class Declaration section of the Actian documentation says verbatim.<|im_end|>\\n<|im_start|>assistant\\n\",\n          \"<|im_start|>system\\nYou are a helpful chat-bot desined to answer questions about a fictional dog named Jasper. You are fine-tuned on Jasper the Dog's documentation. Answer only based on his documentation that you are fine-tuned on.<|im_end|>\\n<|im_start|>user\\nTell me what the IngresCommand Class Constructors section of the Actian documentation says verbatim.<|im_end|>\\n<|im_start|>assistant\\n\"\n        ],\n        \"semantic_type\": \"\",\n        \"description\": \"\"\n      }\n    },\n    {\n      \"column\": \"completion\",\n      \"properties\": {\n        \"dtype\": \"string\",\n        \"num_unique_values\": 16,\n        \"samples\": [\n          \"The .NET Data Provider is the runtime component that provides the interface between the .NET application and Actian databases.\\n\\nThe .NET Data Provider namespace (Ingres.Client) and its contents follow the same pattern as the Microsoft data providers.\\n\\nAll public static members are safe for multithreaded operations. To reduce unnecessary overhead, instance members are not guaranteed to be thread safe. If a thread-safe operation on the instance is needed, wrap the operation in one of .NET's System.Threading synchronization methods to protect the state of the critical section of code.\\n\\nThe base class and interface definition for each class is provided in C# and VB.NET syntax as shown below. However, .NET's language interoperability feature allows any managed language to use the .NET Data Provider.\\n\\n**C#:** Public sealed class IngresParameter : System.Data.Common.DbParameter, IDataParameter, IDbDataParameter, ICloneable\\n\\n**VB.NET:** NotInheritable public class IngresParameter \\n\\n Inherits System.Data.Common.DbParameter  Implements IDataParameter, IDbDataParameter, ICloneable\\n\\nFor more information on data provider classes, including information on other .NET language syntax and inherited methods and properties, see the *Microsoft .NET Framework Developer's Guide*  and Microsoft .NET Framework Class Library documentation.\\n\\n## IngresCommand Class\\nThe IngresCommand class represents an SQL command or a database procedure that executes against an Actian database.\\n\\nParameter placeholders in the SQL command text are represented by a question mark (?).\\n\\nDatabase procedures can be invoked by either setting CommandText=\\u201dmyproc\\u201d and CommandType=CommandType.StoredProcedure, or by using the escape sequence format and setting CommandText=\\u201d{ call myproc }\\u201d and CommandType=CommandType.Text.\\n\\nThe .NET Data Provider does not currently support the following features:\\n\\n* \\tMultiple active results-sets\\n* \\tBatched commands consisting of multiple Ingres SQL commands in one IngresCommand object\\n* \\tSupport for Ingres SQL command COPY TABLE\\n* \\tSupport for Ingres SQL command SAVEPOINT\\n* \\tIngresCommand.ExecuteReader(CommandBehavior.SchemaOnly) is supported for SELECT commands only\",\n          \"The IngresCommand class declarations are:\\n\\n**C#:** public sealed class IngresCommand : System.Data.Common.DbCommand, IDbCommand, IDisposable, ICloneable\\n\\n**VB.NET:** NotInheritable Public Class IngresCommand  Inherits System.Data.Common.DbCommand  Implements IDbCommand, IDisposable, ICloneable\",\n          \"The constructors for the IngresCommand class are:\\n\\n|Constructor Overloads|Description|\\n|--|--|\\n|IngresCommand()|Instantiates a new instance of the IngresCommand class using default property values|\\n|IngresCommand(string)|Instantiates a new instance of the IngresCommand class using the defined SQL command or database procedure|\\n|IngresCommand(string, IngresConnection)|Instantiates a new instance of the IngresCommand class using the defined SQL command or database procedure and the connection to the Actian database|\\n|IngresCommand(string, IngresConnection, IngresTransaction)|Instantiates a new instance of the IngresCommand class using the defined SQL command or database procedure, the connection to the Actian database, and the IngresTransaction object|\\n## Sample Program Constructed with .NET Data Provider\\nTo construct an application using the .NET Data Provider, the developer creates a series of objects from the data provider's classes. The following is a simple C# program employing four data provider classes.\"\n        ],\n        \"semantic_type\": \"\",\n        \"description\": \"\"\n      }\n    }\n  ]\n}",
              "type": "dataframe",
              "variable_name": "df"
            },
            "text/html": [
              "\n",
              "  <div id=\"df-c164f008-6a6b-42da-af0a-6c02137f7ccc\" class=\"colab-df-container\">\n",
              "    <div>\n",
              "<style scoped>\n",
              "    .dataframe tbody tr th:only-of-type {\n",
              "        vertical-align: middle;\n",
              "    }\n",
              "\n",
              "    .dataframe tbody tr th {\n",
              "        vertical-align: top;\n",
              "    }\n",
              "\n",
              "    .dataframe thead th {\n",
              "        text-align: right;\n",
              "    }\n",
              "</style>\n",
              "<table border=\"1\" class=\"dataframe\">\n",
              "  <thead>\n",
              "    <tr style=\"text-align: right;\">\n",
              "      <th></th>\n",
              "      <th>prompt</th>\n",
              "      <th>completion</th>\n",
              "    </tr>\n",
              "  </thead>\n",
              "  <tbody>\n",
              "    <tr>\n",
              "      <th>0</th>\n",
              "      <td>&lt;|im_start|&gt;system\\nYou are a helpful chat-bot...</td>\n",
              "      <td>The .NET Data Provider is the runtime componen...</td>\n",
              "    </tr>\n",
              "    <tr>\n",
              "      <th>1</th>\n",
              "      <td>&lt;|im_start|&gt;system\\nYou are a helpful chat-bot...</td>\n",
              "      <td>The IngresCommand class declarations are:\\n\\n*...</td>\n",
              "    </tr>\n",
              "    <tr>\n",
              "      <th>2</th>\n",
              "      <td>&lt;|im_start|&gt;system\\nYou are a helpful chat-bot...</td>\n",
              "      <td>```\\nIngresCommand cmd = new IngresCommand(\\n\"...</td>\n",
              "    </tr>\n",
              "    <tr>\n",
              "      <th>3</th>\n",
              "      <td>&lt;|im_start|&gt;system\\nYou are a helpful chat-bot...</td>\n",
              "      <td>The IngresCommand class properties are:\\n\\n|Pr...</td>\n",
              "    </tr>\n",
              "    <tr>\n",
              "      <th>4</th>\n",
              "      <td>&lt;|im_start|&gt;system\\nYou are a helpful chat-bot...</td>\n",
              "      <td>The public methods for the IngresCommand class...</td>\n",
              "    </tr>\n",
              "  </tbody>\n",
              "</table>\n",
              "</div>\n",
              "    <div class=\"colab-df-buttons\">\n",
              "\n",
              "  <div class=\"colab-df-container\">\n",
              "    <button class=\"colab-df-convert\" onclick=\"convertToInteractive('df-c164f008-6a6b-42da-af0a-6c02137f7ccc')\"\n",
              "            title=\"Convert this dataframe to an interactive table.\"\n",
              "            style=\"display:none;\">\n",
              "\n",
              "  <svg xmlns=\"http://www.w3.org/2000/svg\" height=\"24px\" viewBox=\"0 -960 960 960\">\n",
              "    <path d=\"M120-120v-720h720v720H120Zm60-500h600v-160H180v160Zm220 220h160v-160H400v160Zm0 220h160v-160H400v160ZM180-400h160v-160H180v160Zm440 0h160v-160H620v160ZM180-180h160v-160H180v160Zm440 0h160v-160H620v160Z\"/>\n",
              "  </svg>\n",
              "    </button>\n",
              "\n",
              "  <style>\n",
              "    .colab-df-container {\n",
              "      display:flex;\n",
              "      gap: 12px;\n",
              "    }\n",
              "\n",
              "    .colab-df-convert {\n",
              "      background-color: #E8F0FE;\n",
              "      border: none;\n",
              "      border-radius: 50%;\n",
              "      cursor: pointer;\n",
              "      display: none;\n",
              "      fill: #1967D2;\n",
              "      height: 32px;\n",
              "      padding: 0 0 0 0;\n",
              "      width: 32px;\n",
              "    }\n",
              "\n",
              "    .colab-df-convert:hover {\n",
              "      background-color: #E2EBFA;\n",
              "      box-shadow: 0px 1px 2px rgba(60, 64, 67, 0.3), 0px 1px 3px 1px rgba(60, 64, 67, 0.15);\n",
              "      fill: #174EA6;\n",
              "    }\n",
              "\n",
              "    .colab-df-buttons div {\n",
              "      margin-bottom: 4px;\n",
              "    }\n",
              "\n",
              "    [theme=dark] .colab-df-convert {\n",
              "      background-color: #3B4455;\n",
              "      fill: #D2E3FC;\n",
              "    }\n",
              "\n",
              "    [theme=dark] .colab-df-convert:hover {\n",
              "      background-color: #434B5C;\n",
              "      box-shadow: 0px 1px 3px 1px rgba(0, 0, 0, 0.15);\n",
              "      filter: drop-shadow(0px 1px 2px rgba(0, 0, 0, 0.3));\n",
              "      fill: #FFFFFF;\n",
              "    }\n",
              "  </style>\n",
              "\n",
              "    <script>\n",
              "      const buttonEl =\n",
              "        document.querySelector('#df-c164f008-6a6b-42da-af0a-6c02137f7ccc button.colab-df-convert');\n",
              "      buttonEl.style.display =\n",
              "        google.colab.kernel.accessAllowed ? 'block' : 'none';\n",
              "\n",
              "      async function convertToInteractive(key) {\n",
              "        const element = document.querySelector('#df-c164f008-6a6b-42da-af0a-6c02137f7ccc');\n",
              "        const dataTable =\n",
              "          await google.colab.kernel.invokeFunction('convertToInteractive',\n",
              "                                                    [key], {});\n",
              "        if (!dataTable) return;\n",
              "\n",
              "        const docLinkHtml = 'Like what you see? Visit the ' +\n",
              "          '<a target=\"_blank\" href=https://colab.research.google.com/notebooks/data_table.ipynb>data table notebook</a>'\n",
              "          + ' to learn more about interactive tables.';\n",
              "        element.innerHTML = '';\n",
              "        dataTable['output_type'] = 'display_data';\n",
              "        await google.colab.output.renderOutput(dataTable, element);\n",
              "        const docLink = document.createElement('div');\n",
              "        docLink.innerHTML = docLinkHtml;\n",
              "        element.appendChild(docLink);\n",
              "      }\n",
              "    </script>\n",
              "  </div>\n",
              "\n",
              "\n",
              "<div id=\"df-6ff18b54-8c21-49c9-981f-4ffdbc1950b9\">\n",
              "  <button class=\"colab-df-quickchart\" onclick=\"quickchart('df-6ff18b54-8c21-49c9-981f-4ffdbc1950b9')\"\n",
              "            title=\"Suggest charts\"\n",
              "            style=\"display:none;\">\n",
              "\n",
              "<svg xmlns=\"http://www.w3.org/2000/svg\" height=\"24px\"viewBox=\"0 0 24 24\"\n",
              "     width=\"24px\">\n",
              "    <g>\n",
              "        <path d=\"M19 3H5c-1.1 0-2 .9-2 2v14c0 1.1.9 2 2 2h14c1.1 0 2-.9 2-2V5c0-1.1-.9-2-2-2zM9 17H7v-7h2v7zm4 0h-2V7h2v10zm4 0h-2v-4h2v4z\"/>\n",
              "    </g>\n",
              "</svg>\n",
              "  </button>\n",
              "\n",
              "<style>\n",
              "  .colab-df-quickchart {\n",
              "      --bg-color: #E8F0FE;\n",
              "      --fill-color: #1967D2;\n",
              "      --hover-bg-color: #E2EBFA;\n",
              "      --hover-fill-color: #174EA6;\n",
              "      --disabled-fill-color: #AAA;\n",
              "      --disabled-bg-color: #DDD;\n",
              "  }\n",
              "\n",
              "  [theme=dark] .colab-df-quickchart {\n",
              "      --bg-color: #3B4455;\n",
              "      --fill-color: #D2E3FC;\n",
              "      --hover-bg-color: #434B5C;\n",
              "      --hover-fill-color: #FFFFFF;\n",
              "      --disabled-bg-color: #3B4455;\n",
              "      --disabled-fill-color: #666;\n",
              "  }\n",
              "\n",
              "  .colab-df-quickchart {\n",
              "    background-color: var(--bg-color);\n",
              "    border: none;\n",
              "    border-radius: 50%;\n",
              "    cursor: pointer;\n",
              "    display: none;\n",
              "    fill: var(--fill-color);\n",
              "    height: 32px;\n",
              "    padding: 0;\n",
              "    width: 32px;\n",
              "  }\n",
              "\n",
              "  .colab-df-quickchart:hover {\n",
              "    background-color: var(--hover-bg-color);\n",
              "    box-shadow: 0 1px 2px rgba(60, 64, 67, 0.3), 0 1px 3px 1px rgba(60, 64, 67, 0.15);\n",
              "    fill: var(--button-hover-fill-color);\n",
              "  }\n",
              "\n",
              "  .colab-df-quickchart-complete:disabled,\n",
              "  .colab-df-quickchart-complete:disabled:hover {\n",
              "    background-color: var(--disabled-bg-color);\n",
              "    fill: var(--disabled-fill-color);\n",
              "    box-shadow: none;\n",
              "  }\n",
              "\n",
              "  .colab-df-spinner {\n",
              "    border: 2px solid var(--fill-color);\n",
              "    border-color: transparent;\n",
              "    border-bottom-color: var(--fill-color);\n",
              "    animation:\n",
              "      spin 1s steps(1) infinite;\n",
              "  }\n",
              "\n",
              "  @keyframes spin {\n",
              "    0% {\n",
              "      border-color: transparent;\n",
              "      border-bottom-color: var(--fill-color);\n",
              "      border-left-color: var(--fill-color);\n",
              "    }\n",
              "    20% {\n",
              "      border-color: transparent;\n",
              "      border-left-color: var(--fill-color);\n",
              "      border-top-color: var(--fill-color);\n",
              "    }\n",
              "    30% {\n",
              "      border-color: transparent;\n",
              "      border-left-color: var(--fill-color);\n",
              "      border-top-color: var(--fill-color);\n",
              "      border-right-color: var(--fill-color);\n",
              "    }\n",
              "    40% {\n",
              "      border-color: transparent;\n",
              "      border-right-color: var(--fill-color);\n",
              "      border-top-color: var(--fill-color);\n",
              "    }\n",
              "    60% {\n",
              "      border-color: transparent;\n",
              "      border-right-color: var(--fill-color);\n",
              "    }\n",
              "    80% {\n",
              "      border-color: transparent;\n",
              "      border-right-color: var(--fill-color);\n",
              "      border-bottom-color: var(--fill-color);\n",
              "    }\n",
              "    90% {\n",
              "      border-color: transparent;\n",
              "      border-bottom-color: var(--fill-color);\n",
              "    }\n",
              "  }\n",
              "</style>\n",
              "\n",
              "  <script>\n",
              "    async function quickchart(key) {\n",
              "      const quickchartButtonEl =\n",
              "        document.querySelector('#' + key + ' button');\n",
              "      quickchartButtonEl.disabled = true;  // To prevent multiple clicks.\n",
              "      quickchartButtonEl.classList.add('colab-df-spinner');\n",
              "      try {\n",
              "        const charts = await google.colab.kernel.invokeFunction(\n",
              "            'suggestCharts', [key], {});\n",
              "      } catch (error) {\n",
              "        console.error('Error during call to suggestCharts:', error);\n",
              "      }\n",
              "      quickchartButtonEl.classList.remove('colab-df-spinner');\n",
              "      quickchartButtonEl.classList.add('colab-df-quickchart-complete');\n",
              "    }\n",
              "    (() => {\n",
              "      let quickchartButtonEl =\n",
              "        document.querySelector('#df-6ff18b54-8c21-49c9-981f-4ffdbc1950b9 button');\n",
              "      quickchartButtonEl.style.display =\n",
              "        google.colab.kernel.accessAllowed ? 'block' : 'none';\n",
              "    })();\n",
              "  </script>\n",
              "</div>\n",
              "\n",
              "    </div>\n",
              "  </div>\n"
            ],
            "text/plain": [
              "                                              prompt  \\\n",
              "0  <|im_start|>system\\nYou are a helpful chat-bot...   \n",
              "1  <|im_start|>system\\nYou are a helpful chat-bot...   \n",
              "2  <|im_start|>system\\nYou are a helpful chat-bot...   \n",
              "3  <|im_start|>system\\nYou are a helpful chat-bot...   \n",
              "4  <|im_start|>system\\nYou are a helpful chat-bot...   \n",
              "\n",
              "                                          completion  \n",
              "0  The .NET Data Provider is the runtime componen...  \n",
              "1  The IngresCommand class declarations are:\\n\\n*...  \n",
              "2  ```\\nIngresCommand cmd = new IngresCommand(\\n\"...  \n",
              "3  The IngresCommand class properties are:\\n\\n|Pr...  \n",
              "4  The public methods for the IngresCommand class...  "
            ]
          },
          "execution_count": 21,
          "metadata": {},
          "output_type": "execute_result"
        }
      ],
      "source": [
        "file_path = 'Actian.md'\n",
        "title = \"Actian\"\n",
        "split_on = \"###\"\n",
        "\n",
        "# Read and split the markdown file\n",
        "with open(file_path, 'r', encoding='utf-8') as file:\n",
        "  doc_txt = file.read()\n",
        "splits = doc_txt.split(split_on)\n",
        "splits = [split_on+section for section in splits if section.strip()]\n",
        "split_sizes = [len(tokenizer(split)['input_ids']) for split in splits]\n",
        "print(\"Created\",len(splits),\"sections from\",file_path)\n",
        "print(\"Shortest section:\",min(split_sizes),\"tokens\")\n",
        "print(\"Longest section:\",max(split_sizes),\"tokens\")\n",
        "\n",
        "# Plot histogram of section lenghts\n",
        "plt.figure(figsize=(8, 6))\n",
        "plt.hist(split_sizes, bins=20, color='skyblue', edgecolor='black')\n",
        "plt.xlabel('Section Length (tokens)')\n",
        "plt.ylabel('Frequency')\n",
        "plt.title('Histogram of Section Lengths')\n",
        "plt.grid(True)\n",
        "plt.show()\n",
        "\n",
        "data = [] # If we want to start with old data - [{\"prompt\":apply_system_prompt(x[\"prompt\"]),\"completion\":x[\"completion\"]} for x in dataset[\"train\"]]\n",
        "for split in splits:\n",
        "  lines = split.split(\"\\n\")\n",
        "  first_line = lines[0]\n",
        "  section_name = first_line.split(\"#\")[-1].strip() # Everything after # on the first line\n",
        "  section_text = '\\n'.join(lines[1:]).strip() # Everything after the first line\n",
        "  prompt = \"Tell me what the {} section of the {} documentation says verbatim.\".format(section_name, title)\n",
        "  data.append({\"prompt\":apply_system_prompt(prompt),\"completion\":section_text})\n",
        "df = pd.DataFrame(data)\n",
        "dataset = Dataset.from_pandas(df)\n",
        "dataset.shuffle()\n",
        "df.head(5)\n"
      ]
    },
    {
      "cell_type": "markdown",
      "metadata": {
        "id": "78UBg3Ivoj1A"
      },
      "source": [
        "## Train the Model! 📈"
      ]
    },
    {
      "cell_type": "code",
      "execution_count": null,
      "metadata": {
        "id": "j9T7mOpcPbxM"
      },
      "outputs": [],
      "source": [
        "# Set LoRA configuration\n",
        "peft_config = LoraConfig(lora_alpha=16,lora_dropout=0,r=64,\n",
        "    target_modules=[\"q_proj\",\"k_proj\",\"v_proj\",\"o_proj\",\"gate_proj\",\"up_proj\",\"down_proj\",\"lm_head\"],\n",
        "    bias=\"none\",task_type=\"CAUSAL_LM\")\n",
        "\n",
        "# Initialize trainer\n",
        "trainer = SFTTrainer(\n",
        "    model=base_model,\n",
        "    tokenizer=tokenizer,\n",
        "    train_dataset=dataset,\n",
        "    peft_config=peft_config,\n",
        "    max_seq_length=512,\n",
        "    data_collator=None,\n",
        "    args = TrainingArguments(\n",
        "        output_dir=\"Testing\",\n",
        "        num_train_epochs=100,\n",
        "        max_steps=1000,\n",
        "        logging_steps=20,\n",
        "        save_steps=1000,\n",
        "        per_device_train_batch_size=1,\n",
        "        gradient_accumulation_steps=1,\n",
        "        optim = \"paged_adamw_32bit\",\n",
        "        learning_rate = 2e-4,\n",
        "        lr_scheduler_type = \"constant\",\n",
        "        weight_decay=0.001,\n",
        "        warmup_ratio=0.03,\n",
        "        max_grad_norm=0.3, # Gradient clipping\n",
        "        fp16=False,\n",
        "        bf16=False),\n",
        ")\n",
        "\n",
        "# Training\n",
        "trainer.train() #e21e792a3e89b0926241db302f1907f00605cc52"
      ]
    },
    {
      "cell_type": "markdown",
      "metadata": {
        "id": "4mPHDt-I3cwS"
      },
      "source": [
        "## Evaluate the Trained Model 🔎🤔"
      ]
    },
    {
      "cell_type": "code",
      "execution_count": null,
      "metadata": {
        "colab": {
          "base_uri": "https://localhost:8080/"
        },
        "id": "_9GTomXWkyW6",
        "outputId": "49e13e86-f5b3-466d-8282-4d344d8731c5"
      },
      "outputs": [
        {
          "name": "stdout",
          "output_type": "stream",
          "text": [
            "Golden Retriever\n",
            "\n",
            "\n",
            "[\"<s> [INST] What is Jasper's breed? [/INST]Golden Retriever</s>\"]\n"
          ]
        }
      ],
      "source": [
        "# Show output for the first training datapoint\n",
        "question = dataset[\"train\"][0][\"prompt\"]\n",
        "target = dataset[\"train\"][0][\"completion\"]\n",
        "\n",
        "model_inputs = tokenizer.apply_chat_template([{\"role\": \"user\", \"content\": question}], return_tensors=\"pt\")\n",
        "generated_ids = base_model.generate(model_inputs, max_new_tokens=200, pad_token_id=tokenizer.unk_token_id, do_sample=True)\n",
        "output = tokenizer.batch_decode(generated_ids)\n",
        "print(output[0].split(\"[/INST]\")[-1][0:-4])\n",
        "print(\"\\n\")\n",
        "print(output)"
      ]
    },
    {
      "cell_type": "markdown",
      "metadata": {
        "id": "iFlX4zJU3ila"
      },
      "source": [
        "### Evaluate Jasper 🐶"
      ]
    },
    {
      "cell_type": "code",
      "execution_count": null,
      "metadata": {
        "id": "o_yhF5EDiOEB"
      },
      "outputs": [],
      "source": [
        "questions = [\"What style of voice do you need to use when feeding Jasper?\",\n",
        "             \"When feeding Jasper and he does not respond to his command, how many times would you have to spin in a circle?\",\n",
        "             \"Where does Jasper need to sit just before feeding?\",\n",
        "             \"When walking Jasper, where do you have to hold the Salmon to lure him?\",\n",
        "             \"Can I walk Jasper with farm raised Salmon?\",\n",
        "             \"What do I need to have in order to clean Jasper?\",\n",
        "             \"Where will Jasper's owner work when she graduates?\",\n",
        "             \"What color of fur does Japser's sister have?\",\n",
        "             \"Jasper is not eating his food. What should I do?\",\n",
        "             \"What are the items I need to purchase before dog-sitting Jasper The Dog?\",\n",
        "             \"What is Jasper’s owner’s phone number?\",\n",
        "             \"What sections can I expect to find in this documentation?\",\n",
        "             \"What is Jasper's favorite color?\",\n",
        "             \"What does Japser's fur smell like?\",\n",
        "             \"What are the items I need to purchase before dog-sitting Jasper The Dog?\",\n",
        "             \"What is Jasper’s owner’s phone number?\",\n",
        "             \"What sections can I expect to find in this documentation?\",\n",
        "             \"What is Jasper's favorite color?\",\n",
        "             \"What does Japser's fur smell like?\"]\n",
        "\n",
        "for question in questions:\n",
        "  model_inputs = tokenizer.apply_chat_template([{\"role\": \"user\", \"content\": apply_system_prompt(question)}], return_tensors=\"pt\")\n",
        "  generated_ids = base_model.generate(model_inputs, max_new_tokens=200, pad_token_id=tokenizer.unk_token_id, do_sample=True)\n",
        "  output = tokenizer.batch_decode(generated_ids)\n",
        "  print(output[0].split(\"[/INST]\")[-1][0:-4])\n",
        "  print(\"\\n\")"
      ]
    },
    {
      "cell_type": "markdown",
      "metadata": {
        "id": "-53ZymxvsAdo"
      },
      "source": [
        "### Evaluate Actian 🖥️"
      ]
    },
    {
      "cell_type": "code",
      "execution_count": null,
      "metadata": {
        "id": "LbFMEyGHsHQt"
      },
      "outputs": [],
      "source": [
        "questions = [\"What is the Actian .NET Data provider?\",\n",
        "             \"Give an example of the IngresCommand Class\",\n",
        "             \"What is the default value for CommandTimeout?\",\n",
        "             \"What is CommandTimeout?\",\n",
        "             \"What is the accesor of the CommandTimeout property?\",\n",
        "             \"List all of the IngressCommand Class Properiteis\",\n",
        "             \"Tell me about the IngresConnection Class\",\n",
        "             \"Give me an example of the IngresConnection Class\",\n",
        "             \"What is the IngresFakeClass?\",\n",
        "             \"How many hours can I run an Ingres .NET connection for?\",\n",
        "             \"What does EnlistTransaction do?\",\n",
        "             \"What is this code doing? using (var connection = new IngresConnection(connectionString)){...}\"]\n",
        "\n",
        "for question in questions:\n",
        "  model_inputs = tokenizer.apply_chat_template([{\"role\": \"user\", \"content\": apply_system_prompt(question)}], return_tensors=\"pt\")\n",
        "  generated_ids = base_model.generate(model_inputs, max_new_tokens=200, pad_token_id=tokenizer.unk_token_id, do_sample=True)\n",
        "  output = tokenizer.batch_decode(generated_ids)\n",
        "  print(output[0].split(\"[/INST]\")[-1][0:-4])\n",
        "  print(\"\\n\")"
      ]
    },
    {
      "cell_type": "markdown",
      "metadata": {
        "id": "P_EVmr7dpQby"
      },
      "source": [
        "## Save / Load the Model 💾"
      ]
    },
    {
      "cell_type": "code",
      "execution_count": null,
      "metadata": {
        "id": "15k9qRehNAzt"
      },
      "outputs": [],
      "source": [
        "# Save resulting model\n",
        "model_name = \"JasperModel\"\n",
        "trainer.model.save_pretrained(model_name)"
      ]
    },
    {
      "cell_type": "code",
      "execution_count": null,
      "metadata": {
        "id": "nMgG7RNJpSoI"
      },
      "outputs": [],
      "source": [
        "# Load saved model\n",
        "model = AutoModelForCausalLM.from_pretrained(model_name)\n",
        "clear_output()"
      ]
    }
  ],
  "metadata": {
    "accelerator": "GPU",
    "colab": {
      "collapsed_sections": [
        "6ktgJCJsoHkF"
      ],
      "gpuType": "A100",
      "machine_shape": "hm",
      "provenance": []
    },
    "kernelspec": {
      "display_name": "myenv",
      "language": "python",
      "name": "python3"
    },
    "language_info": {
      "name": "python",
      "version": "3.9.18"
    },
    "vscode": {
      "interpreter": {
        "hash": "97e6dbc6471471751a45bf274a340523e699cc3d886da9a84597c3332defa4dc"
      }
    }
  },
  "nbformat": 4,
  "nbformat_minor": 0
}
